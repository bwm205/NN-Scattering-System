{
 "cells": [
  {
   "cell_type": "code",
   "execution_count": 2,
   "metadata": {},
   "outputs": [],
   "source": [
    "import numpy as np\n",
    "from tqdm import tqdm\n",
    "import matplotlib.pyplot as plt\n",
    "\n",
    "import seaborn\n",
    "seaborn.set()\n",
    "\n",
    "from current_model import DiscreteDipole\n",
    "from bead_locating import calc_distances_1D, calc_distances_2D, mds\n",
    "\n",
    "import torch\n",
    "import torch.nn as nn\n",
    "from torch.utils.data import TensorDataset, DataLoader\n",
    "\n",
    "use_gpu = torch.cuda.is_available()\n",
    "dtype = torch.cuda.FloatTensor if use_gpu \\\n",
    "        else torch.FloatTensor"
   ]
  },
  {
   "cell_type": "markdown",
   "metadata": {},
   "source": [
    "## Creating Training Data"
   ]
  },
  {
   "cell_type": "code",
   "execution_count": 22,
   "metadata": {},
   "outputs": [],
   "source": [
    "def forward_pass_np(T1,T2, input_field):\n",
    "    \n",
    "    field1 = T1@input_field\n",
    "    intensity1 = abs(field1)**2\n",
    "    return T2@intensity1, intensity1"
   ]
  },
  {
   "cell_type": "code",
   "execution_count": 23,
   "metadata": {},
   "outputs": [],
   "source": [
    "#Initialise configuration\n",
    "L = 500       #Medium height\n",
    "beta = 15./L  #Medium height to width ratio\n",
    "N_in = 100    #nb input points\n",
    "N_out = 100   #nb output points\n",
    "scat_density = 0.05   #Density of scattering particles \n",
    "N = round(scat_density*beta*L**2)    #nb scattering particles\n",
    "\n",
    "#Initialising scattering system\n",
    "system = DiscreteDipole(N,L,beta)\n",
    "\n",
    "#Distance to medium from input and output planes\n",
    "D_in = 0.5\n",
    "D = 700  \n",
    "\n",
    "#Producing forward propagation input and output coordinates\n",
    "system.x_input = np.zeros(N_in) - D_in                              \n",
    "system.y_input = np.linspace(0,L,N_in)                              \n",
    "system.x_output = np.random.rand(N_out)*50 - 25 + D                 \n",
    "system.y_output = np.linspace(0,L,N_out) "
   ]
  },
  {
   "cell_type": "code",
   "execution_count": 24,
   "metadata": {},
   "outputs": [],
   "source": [
    "#Bead configuration (manually initialised here)\n",
    "config = np.zeros(system.N_in)\n",
    "config[45] = 1\n",
    "config[48] = 1\n",
    "config[55] = 1\n",
    "config[56] = 1\n",
    "config[59] = 1\n",
    "\n",
    "\n",
    "#Producing both TMs\n",
    "system.bead_config = config\n",
    "TM = system.TM_b\n",
    "I_TM_back = system.I_TM_back_b\n",
    "N_bead = system.N_bead"
   ]
  },
  {
   "cell_type": "code",
   "execution_count": 25,
   "metadata": {},
   "outputs": [],
   "source": [
    "N_pat = 80000 #Number of input patterns\n",
    "E0_max = 1    #Field amplitude\n",
    "\n",
    "#Producing the input and output patterns\n",
    "input_phi = np.random.rand(N_in,N_pat)*2*np.pi\n",
    "input_field = E0_max*np.exp(input_phi*1j) #Consider changing E0_max for these input fields\n",
    "output_intensity, I1 = forward_pass_np(TM,I_TM_back, input_field)\n",
    "\n",
    "#Choose whether or not to add noise\n",
    "noise = 0\n",
    "beta_noise = .5\n",
    "\n",
    "if noise == 1:\n",
    "    I_mean = np.mean(output_intensity)\n",
    "    output_intensity += beta_noise * np.random.randn(*output_intensity.shape)*I_mean"
   ]
  },
  {
   "cell_type": "code",
   "execution_count": 26,
   "metadata": {},
   "outputs": [],
   "source": [
    "#Converting TMs and training data to pytorch tensor\n",
    "T1_t = torch.from_numpy(TM).type(torch.cfloat)\n",
    "T2_t = torch.from_numpy(I_TM_back).type(torch.float32)\n",
    "SLM_input_t = torch.from_numpy(input_field).type(torch.cfloat)\n",
    "CAM_output_t = torch.from_numpy(output_intensity).type(torch.float32)\n",
    "\n",
    "#Transform data to dataloader\n",
    "batch_size = 250 \n",
    "training_data = TensorDataset(SLM_input_t.T,CAM_output_t.T)\n",
    "training_dataloader = DataLoader(training_data, batch_size)"
   ]
  },
  {
   "cell_type": "markdown",
   "metadata": {},
   "source": [
    "## Initialising Model"
   ]
  },
  {
   "cell_type": "code",
   "execution_count": 27,
   "metadata": {},
   "outputs": [],
   "source": [
    "#Define a training process\n",
    "def training_loop(dataloader, model, loss_fn, optimizer, T1, T2):\n",
    "    size = len(dataloader.dataset)\n",
    "    print(size)\n",
    "    num_batches = int(size/dataloader.batch_size)\n",
    "    \n",
    "    #Initialising loss and correlation vectors over time\n",
    "    loss_vec = torch.zeros(num_batches)\n",
    "    cc1_mean = torch.zeros(num_batches)\n",
    "    cc2_mean = torch.zeros(num_batches)\n",
    "\n",
    "    for batch, (SLM_input, CAM_output) in enumerate(dataloader):\n",
    "        #Compute model prediction and loss\n",
    "        pred = model(SLM_input)\n",
    "        loss = loss_fn(pred, CAM_output)\n",
    "        loss_vec[batch] = loss\n",
    "        \n",
    "        #Step of gradient descent\n",
    "        optimizer.zero_grad()\n",
    "        loss.backward()\n",
    "        optimizer.step()\n",
    "        \n",
    "        #Every 50 batches, printing an update on the loss\n",
    "        if batch % 50 == 0:\n",
    "            loss, current = loss.item(), (batch + 1) * len(SLM_input)\n",
    "            print(f\"loss: {loss:>7e}  [{current:>5d}/{size:>5d}]\", len(SLM_input))\n",
    "        \n",
    "        #Corelation matrix after particular step\n",
    "        corel1 = torch.zeros((model.Nfluo , model.Nfluo))\n",
    "        corel2 = torch.zeros((model.Nfluo , model.Nfluo))\n",
    "        \n",
    "        for tt in  torch.arange(0,model.Nfluo,1):\n",
    "            for jj in  torch.arange(0,model.Nfluo,1):\n",
    "                corel1[tt,jj] = torch.abs(torch.conj(T1[tt,:]).T @ model.T1.weight[jj,:]) / (torch.linalg.norm(T1[tt,:])*torch.linalg.norm(model.T1.weight[jj,:]))\n",
    "                corel2[tt,jj] = torch.corrcoef(torch.stack(([T2[:,tt],model.T2.weight[:,jj]])))[1,0]\n",
    "         \n",
    "        #Reshaping these to produce corelation\n",
    "        cc1 = torch.reshape(corel1 , (1, model.Nfluo*model.Nfluo))\n",
    "        idex = (-cc1).argsort()[:model.Nfluo]\n",
    "        cc1_mean[batch] = torch.mean(cc1[0,idex[0,:model.Nfluo]])\n",
    "        cc2 = torch.reshape(corel2 , (1, model.Nfluo*model.Nfluo))\n",
    "        idex = (-cc2).argsort()[:model.Nfluo]\n",
    "        cc2_mean[batch] = torch.mean(cc2[0,idex[0,:model.Nfluo]])\n",
    "    \n",
    "\n",
    "    return loss_vec, cc1_mean, cc2_mean"
   ]
  },
  {
   "cell_type": "code",
   "execution_count": 28,
   "metadata": {},
   "outputs": [],
   "source": [
    "#Defining a neural network class\n",
    "class NeuralNetwork(nn.Module):\n",
    "    def __init__(self, Ncam, Nfluo, Nslm):\n",
    "        super().__init__()\n",
    "        #Determine structure of weights/TMs\n",
    "        self.T1 = nn.Linear(Ncam, Nfluo, bias=False).to(torch.cfloat)\n",
    "        self.T2 = nn.Linear(Nfluo, Nslm, bias=False)\n",
    "        self.Nfluo = Nfluo\n",
    "\n",
    "        #Manually initialise layers to ensure non-zero imaginary part of T1 \n",
    "        #and prevent negative values in T2\n",
    "        with torch.no_grad():\n",
    "            self.T1.weight = torch.nn.Parameter(torch.randn(Nfluo,Nslm, dtype=torch.cfloat) * 1.8e-2)\n",
    "            self.T2.weight = torch.nn.Parameter(abs(torch.randn(Ncam,Nfluo)) * 4e-4)\n",
    "    \n",
    "    #Forward pass using the model's weights\n",
    "    def forward(self, SLM_input):\n",
    "        int1 = torch.abs(self.T1(SLM_input))**2\n",
    "        return self.T2(int1)"
   ]
  },
  {
   "cell_type": "code",
   "execution_count": 29,
   "metadata": {},
   "outputs": [
    {
     "name": "stderr",
     "output_type": "stream",
     "text": [
      "/Users/benmarrett/opt/anaconda3/lib/python3.8/site-packages/torch/nn/modules/module.py:977: UserWarning: Complex modules are a new feature under active development whose design may change, and some modules might not work as expected when using complex tensors as parameters or buffers. Please file an issue at https://github.com/pytorch/pytorch/issues/new?template=bug-report.yml if a complex module does not work as expected.\n",
      "  warnings.warn(\n"
     ]
    }
   ],
   "source": [
    "# Create network\n",
    "model = NeuralNetwork(N_out, N_bead, N_in)\n",
    "\n",
    "learning_rate = 1e-5 #Determinines SGD step size\n",
    "epochs = 15  #Number of times dataset is analysed\n",
    "momentum = 0.9  #Resistance of gradient to change\n",
    "\n",
    "#Create loss function, optimiser and scheduler\n",
    "loss_fn = nn.MSELoss()\n",
    "optimizer = torch.optim.SGD([{'params': model.T1.parameters(), 'lr':3.5e5}, {'params': model.T2.parameters(), 'lr': 6.5e3}], momentum=momentum)\n",
    "scheduler1 = torch.optim.lr_scheduler.LinearLR(optimizer, start_factor=0.4)\n",
    "\n",
    "#Alternative scheduler\n",
    "#scheduler2 = torch.optim.lr_scheduler.ExponentialLR(optimizer, gamma=0.9)"
   ]
  },
  {
   "cell_type": "markdown",
   "metadata": {},
   "source": [
    "## Training Model"
   ]
  },
  {
   "cell_type": "code",
   "execution_count": 30,
   "metadata": {},
   "outputs": [
    {
     "name": "stderr",
     "output_type": "stream",
     "text": [
      "\r",
      "  0%|          | 0/15 [00:00<?, ?it/s]"
     ]
    },
    {
     "name": "stdout",
     "output_type": "stream",
     "text": [
      "Epoch 1\n",
      "-------------------------------\n",
      "80000\n",
      "loss: 8.591173e-09  [  250/80000] 250\n",
      "loss: 9.565650e-10  [12750/80000] 250\n",
      "loss: 2.625055e-10  [25250/80000] 250\n",
      "loss: 1.935106e-10  [37750/80000] 250\n",
      "loss: 1.532244e-10  [50250/80000] 250\n",
      "loss: 1.062505e-10  [62750/80000] 250\n"
     ]
    },
    {
     "name": "stderr",
     "output_type": "stream",
     "text": [
      "\r",
      "  7%|▋         | 1/15 [00:01<00:16,  1.20s/it]"
     ]
    },
    {
     "name": "stdout",
     "output_type": "stream",
     "text": [
      "loss: 7.002917e-11  [75250/80000] 250\n",
      "Epoch 2\n",
      "-------------------------------\n",
      "80000\n",
      "loss: 5.456074e-11  [  250/80000] 250\n",
      "loss: 4.164909e-11  [12750/80000] 250\n",
      "loss: 3.658888e-11  [25250/80000] 250\n",
      "loss: 3.402278e-11  [37750/80000] 250\n",
      "loss: 2.692029e-11  [50250/80000] 250\n",
      "loss: 2.812318e-11  [62750/80000] 250\n",
      "loss: 2.767468e-11  [75250/80000] 250\n"
     ]
    },
    {
     "name": "stderr",
     "output_type": "stream",
     "text": [
      "\r",
      " 13%|█▎        | 2/15 [00:02<00:15,  1.17s/it]"
     ]
    },
    {
     "name": "stdout",
     "output_type": "stream",
     "text": [
      "Epoch 3\n",
      "-------------------------------\n",
      "80000\n",
      "loss: 2.757967e-11  [  250/80000] 250\n",
      "loss: 2.572483e-11  [12750/80000] 250\n",
      "loss: 2.590849e-11  [25250/80000] 250\n",
      "loss: 2.513565e-11  [37750/80000] 250\n",
      "loss: 2.436008e-11  [50250/80000] 250\n",
      "loss: 2.149817e-11  [62750/80000] 250\n",
      "loss: 2.157210e-11  [75250/80000] 250\n"
     ]
    },
    {
     "name": "stderr",
     "output_type": "stream",
     "text": [
      "\r",
      " 20%|██        | 3/15 [00:03<00:13,  1.15s/it]"
     ]
    },
    {
     "name": "stdout",
     "output_type": "stream",
     "text": [
      "Epoch 4\n",
      "-------------------------------\n",
      "80000\n",
      "loss: 2.223860e-11  [  250/80000] 250\n",
      "loss: 1.858686e-11  [12750/80000] 250\n",
      "loss: 1.648318e-11  [25250/80000] 250\n",
      "loss: 1.611627e-11  [37750/80000] 250\n",
      "loss: 1.398583e-11  [50250/80000] 250\n",
      "loss: 1.147575e-11  [62750/80000] 250\n"
     ]
    },
    {
     "name": "stderr",
     "output_type": "stream",
     "text": [
      "\r",
      " 27%|██▋       | 4/15 [00:04<00:12,  1.18s/it]"
     ]
    },
    {
     "name": "stdout",
     "output_type": "stream",
     "text": [
      "loss: 1.091725e-11  [75250/80000] 250\n",
      "Epoch 5\n",
      "-------------------------------\n",
      "80000\n",
      "loss: 1.042034e-11  [  250/80000] 250\n",
      "loss: 8.220064e-12  [12750/80000] 250\n",
      "loss: 7.180163e-12  [25250/80000] 250\n",
      "loss: 7.094686e-12  [37750/80000] 250\n",
      "loss: 7.347953e-12  [50250/80000] 250\n",
      "loss: 4.968730e-12  [62750/80000] 250\n",
      "loss: 4.750601e-12  [75250/80000] 250\n"
     ]
    },
    {
     "name": "stderr",
     "output_type": "stream",
     "text": [
      "\r",
      " 33%|███▎      | 5/15 [00:06<00:12,  1.25s/it]"
     ]
    },
    {
     "name": "stdout",
     "output_type": "stream",
     "text": [
      "Epoch 6\n",
      "-------------------------------\n",
      "80000\n",
      "loss: 3.797305e-12  [  250/80000] 250\n",
      "loss: 3.759471e-12  [12750/80000] 250\n",
      "loss: 3.508434e-12  [25250/80000] 250\n",
      "loss: 3.269205e-12  [37750/80000] 250\n",
      "loss: 3.242493e-12  [50250/80000] 250\n",
      "loss: 2.618065e-12  [62750/80000] 250\n",
      "loss: 2.095401e-12  [75250/80000] 250\n"
     ]
    },
    {
     "name": "stderr",
     "output_type": "stream",
     "text": [
      "\r",
      " 40%|████      | 6/15 [00:07<00:11,  1.25s/it]"
     ]
    },
    {
     "name": "stdout",
     "output_type": "stream",
     "text": [
      "Epoch 7\n",
      "-------------------------------\n",
      "80000\n",
      "loss: 1.752820e-12  [  250/80000] 250\n",
      "loss: 1.683918e-12  [12750/80000] 250\n",
      "loss: 1.775083e-12  [25250/80000] 250\n",
      "loss: 1.595292e-12  [37750/80000] 250\n",
      "loss: 1.557057e-12  [50250/80000] 250\n",
      "loss: 1.352466e-12  [62750/80000] 250\n"
     ]
    },
    {
     "name": "stderr",
     "output_type": "stream",
     "text": [
      "\r",
      " 47%|████▋     | 7/15 [00:08<00:09,  1.23s/it]"
     ]
    },
    {
     "name": "stdout",
     "output_type": "stream",
     "text": [
      "loss: 1.147796e-12  [75250/80000] 250\n",
      "Epoch 8\n",
      "-------------------------------\n",
      "80000\n",
      "loss: 1.046540e-12  [  250/80000] 250\n",
      "loss: 9.643447e-13  [12750/80000] 250\n",
      "loss: 1.063732e-12  [25250/80000] 250\n",
      "loss: 9.858882e-13  [37750/80000] 250\n",
      "loss: 9.125150e-13  [50250/80000] 250\n",
      "loss: 8.683137e-13  [62750/80000] 250\n",
      "loss: 7.556048e-13  [75250/80000] 250\n"
     ]
    },
    {
     "name": "stderr",
     "output_type": "stream",
     "text": [
      "\r",
      " 53%|█████▎    | 8/15 [00:09<00:08,  1.24s/it]"
     ]
    },
    {
     "name": "stdout",
     "output_type": "stream",
     "text": [
      "Epoch 9\n",
      "-------------------------------\n",
      "80000\n",
      "loss: 7.104748e-13  [  250/80000] 250\n",
      "loss: 6.343547e-13  [12750/80000] 250\n",
      "loss: 7.051453e-13  [25250/80000] 250\n",
      "loss: 6.668632e-13  [37750/80000] 250\n",
      "loss: 6.070715e-13  [50250/80000] 250\n",
      "loss: 5.990543e-13  [62750/80000] 250\n"
     ]
    },
    {
     "name": "stderr",
     "output_type": "stream",
     "text": [
      "\r",
      " 60%|██████    | 9/15 [00:10<00:07,  1.21s/it]"
     ]
    },
    {
     "name": "stdout",
     "output_type": "stream",
     "text": [
      "loss: 5.262414e-13  [75250/80000] 250\n",
      "Epoch 10\n",
      "-------------------------------\n",
      "80000\n",
      "loss: 4.987403e-13  [  250/80000] 250\n",
      "loss: 4.341116e-13  [12750/80000] 250\n",
      "loss: 4.827430e-13  [25250/80000] 250\n",
      "loss: 4.581324e-13  [37750/80000] 250\n",
      "loss: 4.182079e-13  [50250/80000] 250\n",
      "loss: 4.143480e-13  [62750/80000] 250\n",
      "loss: 3.668423e-13  [75250/80000] 250\n"
     ]
    },
    {
     "name": "stderr",
     "output_type": "stream",
     "text": [
      "\r",
      " 67%|██████▋   | 10/15 [00:12<00:06,  1.26s/it]"
     ]
    },
    {
     "name": "stdout",
     "output_type": "stream",
     "text": [
      "Epoch 11\n",
      "-------------------------------\n",
      "80000\n",
      "loss: 3.475442e-13  [  250/80000] 250\n",
      "loss: 2.972667e-13  [12750/80000] 250\n",
      "loss: 3.316410e-13  [25250/80000] 250\n",
      "loss: 3.132332e-13  [37750/80000] 250\n",
      "loss: 2.878059e-13  [50250/80000] 250\n",
      "loss: 2.835688e-13  [62750/80000] 250\n"
     ]
    },
    {
     "name": "stderr",
     "output_type": "stream",
     "text": [
      "\r",
      " 73%|███████▎  | 11/15 [00:13<00:05,  1.27s/it]"
     ]
    },
    {
     "name": "stdout",
     "output_type": "stream",
     "text": [
      "loss: 2.527873e-13  [75250/80000] 250\n",
      "Epoch 12\n",
      "-------------------------------\n",
      "80000\n",
      "loss: 2.387260e-13  [  250/80000] 250\n",
      "loss: 2.019507e-13  [12750/80000] 250\n",
      "loss: 2.268545e-13  [25250/80000] 250\n",
      "loss: 2.126617e-13  [37750/80000] 250\n",
      "loss: 1.963836e-13  [50250/80000] 250\n",
      "loss: 1.923690e-13  [62750/80000] 250\n",
      "loss: 1.723219e-13  [75250/80000] 250\n"
     ]
    },
    {
     "name": "stderr",
     "output_type": "stream",
     "text": [
      "\r",
      " 80%|████████  | 12/15 [00:14<00:03,  1.27s/it]"
     ]
    },
    {
     "name": "stdout",
     "output_type": "stream",
     "text": [
      "Epoch 13\n",
      "-------------------------------\n",
      "80000\n",
      "loss: 1.621188e-13  [  250/80000] 250\n",
      "loss: 1.362180e-13  [12750/80000] 250\n",
      "loss: 1.543757e-13  [25250/80000] 250\n",
      "loss: 1.436158e-13  [37750/80000] 250\n",
      "loss: 1.329962e-13  [50250/80000] 250\n",
      "loss: 1.298034e-13  [62750/80000] 250\n"
     ]
    },
    {
     "name": "stderr",
     "output_type": "stream",
     "text": [
      "\r",
      " 87%|████████▋ | 13/15 [00:16<00:02,  1.25s/it]"
     ]
    },
    {
     "name": "stdout",
     "output_type": "stream",
     "text": [
      "loss: 1.165840e-13  [75250/80000] 250\n",
      "Epoch 14\n",
      "-------------------------------\n",
      "80000\n",
      "loss: 1.093108e-13  [  250/80000] 250\n",
      "loss: 9.146036e-14  [12750/80000] 250\n",
      "loss: 1.046135e-13  [25250/80000] 250\n",
      "loss: 9.667199e-14  [37750/80000] 250\n",
      "loss: 8.962012e-14  [50250/80000] 250\n",
      "loss: 8.733999e-14  [62750/80000] 250\n",
      "loss: 7.851243e-14  [75250/80000] 250\n"
     ]
    },
    {
     "name": "stderr",
     "output_type": "stream",
     "text": [
      "\r",
      " 93%|█████████▎| 14/15 [00:17<00:01,  1.23s/it]"
     ]
    },
    {
     "name": "stdout",
     "output_type": "stream",
     "text": [
      "Epoch 15\n",
      "-------------------------------\n",
      "80000\n",
      "loss: 7.343031e-14  [  250/80000] 250\n",
      "loss: 6.126893e-14  [12750/80000] 250\n",
      "loss: 7.068536e-14  [25250/80000] 250\n",
      "loss: 6.496428e-14  [37750/80000] 250\n",
      "loss: 6.022467e-14  [50250/80000] 250\n",
      "loss: 5.869818e-14  [62750/80000] 250\n"
     ]
    },
    {
     "name": "stderr",
     "output_type": "stream",
     "text": [
      "100%|██████████| 15/15 [00:18<00:00,  1.23s/it]"
     ]
    },
    {
     "name": "stdout",
     "output_type": "stream",
     "text": [
      "loss: 5.274085e-14  [75250/80000] 250\n",
      "Done!\n"
     ]
    },
    {
     "name": "stderr",
     "output_type": "stream",
     "text": [
      "\n"
     ]
    }
   ],
   "source": [
    "#Initialise overall loss and corelations vectors to track over time\n",
    "loss_vec = torch.empty(0)\n",
    "cc1_mean = torch.empty(0)\n",
    "cc2_mean = torch.empty(0)\n",
    "\n",
    "\n",
    "#Train network\n",
    "for t in tqdm(range(epochs)):\n",
    "    print(f\"Epoch {t+1}\\n-------------------------------\")\n",
    "    \n",
    "    #Each epoch produces correlation\n",
    "    loss_vec_e, cc1_mean_e, cc2_mean_e= training_loop(training_dataloader, model, loss_fn, optimizer, T1_t, T2_t)\n",
    "    \n",
    "    #model.T2.weight.detach()[model.T2.weight.detach()<0] = 0   #trying to force T2 to be positive\n",
    "    \n",
    "    #Adding individual epoch loss vector to networks overall loss\n",
    "    loss_vec = torch.cat((loss_vec,loss_vec_e),-1)\n",
    "    cc1_mean = torch.cat((cc1_mean,cc1_mean_e),-1)\n",
    "    cc2_mean = torch.cat((cc2_mean,cc2_mean_e),-1)\n",
    "    \n",
    "    #Scheduler adjusts learning rate\n",
    "    scheduler1.step()\n",
    "print(\"Done!\")"
   ]
  },
  {
   "cell_type": "code",
   "execution_count": 35,
   "metadata": {},
   "outputs": [
    {
     "name": "stdout",
     "output_type": "stream",
     "text": [
      "Loss minimization:   loss_final / loss_ init  =   tensor(5.6158e-06, grad_fn=<DivBackward0>)\n"
     ]
    },
    {
     "name": "stderr",
     "output_type": "stream",
     "text": [
      "<ipython-input-35-016cc9a2d20e>:16: UserWarning: Attempted to set non-positive bottom ylim on a log-scaled axis.\n",
      "Invalid limit will be ignored.\n",
      "  ax.set_ylim(-np.max(loss_vec.detach().numpy()[:point]))\n"
     ]
    },
    {
     "data": {
      "image/png": "[encoded data removed]",
      "text/plain": [
       "<Figure size 432x288 with 1 Axes>"
      ]
     },
     "metadata": {},
     "output_type": "display_data"
    },
    {
     "data": {
      "image/png": "[encoded data removed]",
      "text/plain": [
       "<Figure size 432x288 with 1 Axes>"
      ]
     },
     "metadata": {},
     "output_type": "display_data"
    }
   ],
   "source": [
    "# How good is the reconstruction of the two TMs T1 (SLM <-> beads) and T2 (beads <-> CAM) ?\n",
    "print('Loss minimization:   loss_final / loss_ init  =  ', loss_vec[-1] / loss_vec[0])\n",
    "\n",
    "#Choose plotting range\n",
    "point = len(loss_vec)\n",
    "epoch_vals = np.linspace(0,point/len(loss_vec)*epochs,point) \n",
    "\n",
    "#Plot loss\n",
    "fig, ax = plt.subplots() \n",
    "ax.plot(epoch_vals,loss_vec.detach().numpy()[:point], color='maroon')\n",
    "\n",
    "ax.set_xlabel('Epochs', fontsize=15)\n",
    "ax.set_ylabel('Loss', fontsize=15)\n",
    "ax.set_yscale('log')\n",
    "ax.set_xlim(-.05,np.max(epoch_vals))\n",
    "ax.set_ylim(-np.max(loss_vec.detach().numpy()[:point]))\n",
    "\n",
    "plt.tight_layout()\n",
    "#plt.savefig('loss_graph_5beads.png', dpi=360)\n",
    "\n",
    "\n",
    "#Plot TM correlations\n",
    "fig, ax = plt.subplots() \n",
    "ax.plot(epoch_vals,cc1_mean.detach().numpy()[:point],'r', label=r'$\\tilde{T}_1$', color='royalblue')\n",
    "ax.plot(epoch_vals,cc2_mean.detach().numpy()[:point],'g', label = r'$\\tilde{T}_2$', color='orange')\n",
    "\n",
    "ax.set_xlabel('Epochs', fontsize=15)\n",
    "ax.set_ylabel('Correlation', fontsize=15)\n",
    "ax.set_xlim(-.04,np.max(epoch_vals))\n",
    "ax.set_ylim(0,1.02)\n",
    "ax.legend(loc = 'lower right', fontsize=15)\n",
    "\n",
    "plt.tight_layout()\n",
    "#plt.savefig('correlation_graph_5beads.png', dpi=360)"
   ]
  },
  {
   "cell_type": "markdown",
   "metadata": {},
   "source": [
    "## Target Reconstruction"
   ]
  },
  {
   "cell_type": "markdown",
   "metadata": {},
   "source": [
    "### 1D"
   ]
  },
  {
   "cell_type": "code",
   "execution_count": 32,
   "metadata": {},
   "outputs": [
    {
     "data": {
      "image/png": "[encoded data removed]",
      "text/plain": [
       "<Figure size 432x432 with 1 Axes>"
      ]
     },
     "metadata": {},
     "output_type": "display_data"
    }
   ],
   "source": [
    "ds, correls = calc_distances_1D(model.T1.weight.detach().numpy(), system)\n",
    "\n",
    "#Obtain coords\n",
    "mds_x = mds(ds, correls, system)\n",
    "mds_x -= np.median(mds_x)   #mds coords\n",
    "target_x = system.y_output[system.bead_config.astype(bool)] #Real coords to compare\n",
    "target_x -= np.median(target_x)\n",
    "\n",
    "#Shifting to centre image\n",
    "shift_x = (np.max(target_x) - abs(np.min(target_x)))/2\n",
    "mds_x -= shift_x\n",
    "target_x -= shift_x\n",
    "\n",
    "#Plot\n",
    "plt.figure(figsize=(6,6))\n",
    "plt.scatter(np.zeros_like(mds_x)/(2*np.pi), mds_x/(2*np.pi), label='Reconstruction')\n",
    "plt.scatter(np.zeros_like(target_x)/(2*np.pi), target_x/(2*np.pi), label='Ground Truth')\n",
    "\n",
    "#Label\n",
    "plt.xlabel('x (wavelengths)', fontsize=15)\n",
    "plt.ylabel('y (wavelengths)', fontsize=15)\n",
    "plt.legend(fontsize=15)\n",
    "\n",
    "#Save\n",
    "plt.tight_layout()\n",
    "#plt.savefig('MDS_bead_reconstruction.jpg', dpi=360)"
   ]
  },
  {
   "cell_type": "markdown",
   "metadata": {},
   "source": [
    "## 2D"
   ]
  },
  {
   "cell_type": "code",
   "execution_count": 33,
   "metadata": {},
   "outputs": [
    {
     "data": {
      "image/png": "[encoded data removed]",
      "text/plain": [
       "<Figure size 720x432 with 1 Axes>"
      ]
     },
     "metadata": {},
     "output_type": "display_data"
    }
   ],
   "source": [
    "ds_x,ds_y, correls = calc_distances_2D(system.TM_b, system, num_correls_tilt=200, num_correls_shift=200)\n",
    "\n",
    "#Obtain x coords\n",
    "mds_x, inds_x = mds(ds_x, correls, system, return_inds=1)\n",
    "mds_x -= np.median(mds_x)  #mds coords\n",
    "target_x = system.y_output[system.bead_config.astype(bool)] #Real coords to compare\n",
    "target_x -= np.median(target_x)\n",
    "\n",
    "#Obtain y coords\n",
    "mds_y, inds_yi = mds(ds_y, correls, system, return_inds=1)\n",
    "inds_y = np.zeros(N_bead,dtype=int)\n",
    "inds_y[inds_yi] = np.arange(0,system.N_bead,1)\n",
    "mds_y = mds_y[inds_y][inds_x] #Resort to be the same order as x\n",
    "mds_y -= np.median(mds_y)  #mds coords\n",
    "target_y = system.x_output[system.bead_config.astype(bool)] #Real coords to compare\n",
    "target_y -= np.median(target_y)\n",
    "\n",
    "#Shifting to centre image\n",
    "shift_x = (np.max(target_x) - abs(np.min(target_x)))/2\n",
    "mds_x -= shift_x\n",
    "target_x -= shift_x\n",
    "\n",
    "shift_y = (np.max(target_y) - abs(np.min(target_y)))/2\n",
    "mds_y -= shift_y\n",
    "target_y -= shift_y\n",
    "\n",
    "#Plot\n",
    "plt.figure(figsize=(10,6))\n",
    "plt.scatter(mds_y/(2*np.pi),mds_x/(2*np.pi), label='Reconstruction')\n",
    "plt.scatter(target_y/(2*np.pi),target_x/(2*np.pi), label='Ground Truth')\n",
    "\n",
    "#Label\n",
    "plt.xlabel('x (wavelengths)', fontsize=15)\n",
    "plt.ylabel('y (wavelengths)', fontsize=15)\n",
    "plt.legend(fontsize=15)\n",
    "\n",
    "#Save\n",
    "plt.tight_layout()\n",
    "#plt.savefig('MDS_bead_reconstruction.jpg', dpi=360)"
   ]
  },
  {
   "cell_type": "code",
   "execution_count": 34,
   "metadata": {},
   "outputs": [
    {
     "name": "stdout",
     "output_type": "stream",
     "text": [
      "Error in x = 0.080\n",
      "Error in y = 1.040\n",
      "Total error in position = 1.078\n"
     ]
    }
   ],
   "source": [
    "def calc_err_position(pred_x, target_x, pred_y=[], target_y=[]):\n",
    "    num = len(pred_x)\n",
    "    \n",
    "    xerrs = np.zeros(num)\n",
    "    yerrs = np.zeros(num)\n",
    "    \n",
    "    for i, pred_x_i in enumerate(pred_x):\n",
    "        xerrs[i] = np.min((target_x - pred_x_i)**2)\n",
    "        \n",
    "    if len(pred_y) != 0:\n",
    "        for i, pred_y_i in enumerate(pred_y):\n",
    "            yerrs[i] = np.min((target_y - pred_y_i)**2)\n",
    "    \n",
    "    err = ((xerrs)**2 + (yerrs)**2)**.5\n",
    "    \n",
    "    return np.mean(err)\n",
    "\n",
    "print(\"Error in x = {:.3f}\".format(calc_err_position(mds_x, target_x)/(2*np.pi)))\n",
    "print(\"Error in y = {:.3f}\".format(calc_err_position(mds_y, target_y)/(2*np.pi)))\n",
    "print(\"Total error in position = {:.3f}\".format(calc_err_position(mds_x, target_x, pred_y=mds_y, target_y=target_y)/(2*np.pi)))"
   ]
  }
 ],
 "metadata": {
  "kernelspec": {
   "display_name": "Python 3",
   "language": "python",
   "name": "python3"
  },
  "language_info": {
   "codemirror_mode": {
    "name": "ipython",
    "version": 3
   },
   "file_extension": ".py",
   "mimetype": "text/x-python",
   "name": "python",
   "nbconvert_exporter": "python",
   "pygments_lexer": "ipython3",
   "version": "3.8.3"
  }
 },
 "nbformat": 4,
 "nbformat_minor": 4
}
